{
  "nbformat": 4,
  "nbformat_minor": 0,
  "metadata": {
    "colab": {
      "name": "UsingAPIsIntroduction.ipynb",
      "provenance": [],
      "collapsed_sections": []
    },
    "kernelspec": {
      "name": "python3",
      "display_name": "Python 3"
    },
    "language_info": {
      "name": "python"
    }
  },
  "cells": [
    {
      "cell_type": "markdown",
      "metadata": {
        "id": "uqYj25kdEakz"
      },
      "source": [
        "#WILL BE CONNECTING TO THE GENRENATOR API WITH TWO ENDPOINTS (ONE FOR GENRES AND ONE FOR STORIES)"
      ]
    },
    {
      "cell_type": "code",
      "metadata": {
        "id": "Xmzcg_tT-QRV"
      },
      "source": [
        "import requests"
      ],
      "execution_count": 60,
      "outputs": []
    },
    {
      "cell_type": "code",
      "metadata": {
        "id": "MEhM8nN-ApN2"
      },
      "source": [
        "response = requests.get('https://binaryjazz.us/wp-json/genrenator/v1/genre/')"
      ],
      "execution_count": 63,
      "outputs": []
    },
    {
      "cell_type": "code",
      "metadata": {
        "colab": {
          "base_uri": "https://localhost:8080/"
        },
        "id": "eSLi7b7rG0O6",
        "outputId": "d07da871-d1de-4607-f9e3-a1b0cec532d0"
      },
      "source": [
        "response.status_code"
      ],
      "execution_count": 64,
      "outputs": [
        {
          "output_type": "execute_result",
          "data": {
            "text/plain": [
              "200"
            ]
          },
          "metadata": {},
          "execution_count": 64
        }
      ]
    },
    {
      "cell_type": "code",
      "metadata": {
        "colab": {
          "base_uri": "https://localhost:8080/",
          "height": 35
        },
        "id": "wzbHcdVzmkkS",
        "outputId": "d2a2ce76-4341-48dd-af1c-78d572286325"
      },
      "source": [
        "response.json()"
      ],
      "execution_count": 65,
      "outputs": [
        {
          "output_type": "execute_result",
          "data": {
            "application/vnd.google.colaboratory.intrinsic+json": {
              "type": "string"
            },
            "text/plain": [
              "'europolo'"
            ]
          },
          "metadata": {},
          "execution_count": 65
        }
      ]
    },
    {
      "cell_type": "code",
      "metadata": {
        "colab": {
          "base_uri": "https://localhost:8080/",
          "height": 35
        },
        "id": "DqiFbAtZE_6f",
        "outputId": "e686f832-d67c-4f1d-ba95-9d4d2b3b981d"
      },
      "source": [
        "jsonResponse2 = requests.get('https://binaryjazz.us/wp-json/genrenator/v1/genre/')\n",
        "jsonResponse2.json()"
      ],
      "execution_count": 66,
      "outputs": [
        {
          "output_type": "execute_result",
          "data": {
            "application/vnd.google.colaboratory.intrinsic+json": {
              "type": "string"
            },
            "text/plain": [
              "'flute boogie-woogie'"
            ]
          },
          "metadata": {},
          "execution_count": 66
        }
      ]
    },
    {
      "cell_type": "code",
      "metadata": {
        "id": "DdB0Qm9iFrrJ"
      },
      "source": [
        "jsonResponse = requests.get('https://binaryjazz.us/wp-json/genrenator/v1/story/')\n"
      ],
      "execution_count": 77,
      "outputs": []
    },
    {
      "cell_type": "code",
      "metadata": {
        "colab": {
          "base_uri": "https://localhost:8080/"
        },
        "id": "o6lMHfuWF_bb",
        "outputId": "8d57de92-f8c5-4eab-d2ed-3686a992da20"
      },
      "source": [
        "response.status_code"
      ],
      "execution_count": 78,
      "outputs": [
        {
          "output_type": "execute_result",
          "data": {
            "text/plain": [
              "200"
            ]
          },
          "metadata": {},
          "execution_count": 78
        }
      ]
    },
    {
      "cell_type": "code",
      "metadata": {
        "colab": {
          "base_uri": "https://localhost:8080/",
          "height": 35
        },
        "id": "UZB8WT5DGFT1",
        "outputId": "3b949574-e70f-47b4-c428-9dbb7e6ea42d"
      },
      "source": [
        "response.json()"
      ],
      "execution_count": 83,
      "outputs": [
        {
          "output_type": "execute_result",
          "data": {
            "application/vnd.google.colaboratory.intrinsic+json": {
              "type": "string"
            },
            "text/plain": [
              "'europolo'"
            ]
          },
          "metadata": {},
          "execution_count": 83
        }
      ]
    }
  ]
}